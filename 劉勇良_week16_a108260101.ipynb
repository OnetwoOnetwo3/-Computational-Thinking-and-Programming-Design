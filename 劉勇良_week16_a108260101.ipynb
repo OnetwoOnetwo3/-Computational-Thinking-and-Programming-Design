{
  "nbformat": 4,
  "nbformat_minor": 0,
  "metadata": {
    "colab": {
      "name": "劉勇良-week16-a108260101.ipynb",
      "provenance": [],
      "include_colab_link": true
    },
    "kernelspec": {
      "name": "python3",
      "display_name": "Python 3"
    }
  },
  "cells": [
    {
      "cell_type": "markdown",
      "metadata": {
        "id": "view-in-github",
        "colab_type": "text"
      },
      "source": [
        "<a href=\"https://colab.research.google.com/github/OnetwoOnetwo3/-Computational-Thinking-and-Programming-Design/blob/master/%E5%8A%89%E5%8B%87%E8%89%AF_week16_a108260101.ipynb\" target=\"_parent\"><img src=\"https://colab.research.google.com/assets/colab-badge.svg\" alt=\"Open In Colab\"/></a>"
      ]
    },
    {
      "cell_type": "code",
      "metadata": {
        "id": "5QTWREUAqqLt",
        "colab_type": "code",
        "colab": {
          "base_uri": "https://localhost:8080/",
          "height": 85
        },
        "outputId": "41d1523f-0e62-4dfc-9e1f-95ed83e80190"
      },
      "source": [
        "answer = \"b246\"\n",
        "\n",
        "while True:\n",
        "    password = input(\"Enter your password?\")\n",
        "    if password == answer:\n",
        "        print(\"ENTER THE SYSTEM\")\n",
        "        break\n",
        "    else:\n",
        "        print(\"try agaim\")"
      ],
      "execution_count": 1,
      "outputs": [
        {
          "output_type": "stream",
          "text": [
            "Enter your password?ba46\n",
            "try agaim\n",
            "Enter your password?b246\n",
            "ENTER THE SYSTEM\n"
          ],
          "name": "stdout"
        }
      ]
    },
    {
      "cell_type": "code",
      "metadata": {
        "id": "57F25kk_yTo9",
        "colab_type": "code",
        "colab": {
          "base_uri": "https://localhost:8080/",
          "height": 119
        },
        "outputId": "3bb2e650-bb8d-4299-e40e-097ba9eeb9e2"
      },
      "source": [
        "while True:\n",
        "    acc = input('請輸入帳號')\n",
        "    pwd = input('請輸入密碼')\n",
        "    if (acc == 'abc' and pwd =='123'):\n",
        "        print('帳號與密碼正確')\n",
        "        break\n",
        "    else:\n",
        "        print('登入失敗')"
      ],
      "execution_count": 2,
      "outputs": [
        {
          "output_type": "stream",
          "text": [
            "請輸入帳號123\n",
            "請輸入密碼123\n",
            "登入失敗\n",
            "請輸入帳號abc\n",
            "請輸入密碼123\n",
            "帳號與密碼正確\n"
          ],
          "name": "stdout"
        }
      ]
    },
    {
      "cell_type": "code",
      "metadata": {
        "id": "CxJqx_JD7HVO",
        "colab_type": "code",
        "colab": {
          "base_uri": "https://localhost:8080/",
          "height": 34
        },
        "outputId": "e63d7b41-40fa-4d61-bc63-403f3572ec50"
      },
      "source": [
        "for a in range(6):\n",
        "    print(a, end=\" \")\n",
        "    \n",
        "print(\"\")"
      ],
      "execution_count": 3,
      "outputs": [
        {
          "output_type": "stream",
          "text": [
            "0 1 2 3 4 5 \n"
          ],
          "name": "stdout"
        }
      ]
    },
    {
      "cell_type": "code",
      "metadata": {
        "id": "RY7a9LL07QVl",
        "colab_type": "code",
        "colab": {
          "base_uri": "https://localhost:8080/",
          "height": 34
        },
        "outputId": "51e0eecc-b3bd-42f3-b0d7-4868b8e0bb10"
      },
      "source": [
        "for b in range(1, 6, 2):\n",
        "    print(b, end=\" \")\n",
        "    \n",
        "print(\"\")"
      ],
      "execution_count": 4,
      "outputs": [
        {
          "output_type": "stream",
          "text": [
            "1 3 5 \n"
          ],
          "name": "stdout"
        }
      ]
    },
    {
      "cell_type": "code",
      "metadata": {
        "id": "Kc0-4zCY7VG7",
        "colab_type": "code",
        "colab": {
          "base_uri": "https://localhost:8080/",
          "height": 34
        },
        "outputId": "6623f3e0-87ee-42a2-a403-8bf040f4d5bd"
      },
      "source": [
        "for c in range(2, 6):\n",
        "    print(c, end=\" \")\n",
        "    \n",
        "print(\"\")"
      ],
      "execution_count": 5,
      "outputs": [
        {
          "output_type": "stream",
          "text": [
            "2 3 4 5 \n"
          ],
          "name": "stdout"
        }
      ]
    },
    {
      "cell_type": "code",
      "metadata": {
        "id": "1ib7ZSSR7d3G",
        "colab_type": "code",
        "colab": {
          "base_uri": "https://localhost:8080/",
          "height": 34
        },
        "outputId": "68f40a11-b8e8-4b66-aafe-5c32f54d9898"
      },
      "source": [
        "for d in range(6, 1, -2):\n",
        "    print(d, end=\" \")\n",
        "    \n",
        "print(\"\")"
      ],
      "execution_count": 6,
      "outputs": [
        {
          "output_type": "stream",
          "text": [
            "6 4 2 \n"
          ],
          "name": "stdout"
        }
      ]
    },
    {
      "cell_type": "code",
      "metadata": {
        "id": "2j1AMZpG7hYM",
        "colab_type": "code",
        "colab": {
          "base_uri": "https://localhost:8080/",
          "height": 51
        },
        "outputId": "c380928d-28dd-4eeb-cc49-437c12c3d4fe"
      },
      "source": [
        "n = int(input('請輸入n值?'))\n",
        "sum = 0;\n",
        "for i in range(1,n+1):\n",
        "    sum = sum + i*i;\n",
        "print(sum)"
      ],
      "execution_count": 7,
      "outputs": [
        {
          "output_type": "stream",
          "text": [
            "請輸入n值?5\n",
            "55\n"
          ],
          "name": "stdout"
        }
      ]
    },
    {
      "cell_type": "code",
      "metadata": {
        "id": "wIJf6kXd73IL",
        "colab_type": "code",
        "colab": {}
      },
      "source": [
        ""
      ],
      "execution_count": 0,
      "outputs": []
    }
  ]
}