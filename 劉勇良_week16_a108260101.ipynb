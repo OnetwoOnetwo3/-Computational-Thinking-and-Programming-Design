{
  "nbformat": 4,
  "nbformat_minor": 0,
  "metadata": {
    "colab": {
      "name": "劉勇良-week16-a108260101.ipynb",
      "provenance": [],
      "include_colab_link": true
    },
    "kernelspec": {
      "name": "python3",
      "display_name": "Python 3"
    }
  },
  "cells": [
    {
      "cell_type": "markdown",
      "metadata": {
        "id": "view-in-github",
        "colab_type": "text"
      },
      "source": [
        "<a href=\"https://colab.research.google.com/github/OnetwoOnetwo3/-Computational-Thinking-and-Programming-Design/blob/master/%E5%8A%89%E5%8B%87%E8%89%AF_week16_a108260101.ipynb\" target=\"_parent\"><img src=\"https://colab.research.google.com/assets/colab-badge.svg\" alt=\"Open In Colab\"/></a>"
      ]
    },
    {
      "cell_type": "code",
      "metadata": {
        "id": "5QTWREUAqqLt",
        "colab_type": "code",
        "colab": {
          "base_uri": "https://localhost:8080/",
          "height": 85
        },
        "outputId": "41d1523f-0e62-4dfc-9e1f-95ed83e80190"
      },
      "source": [
        "answer = \"b246\"\n",
        "\n",
        "while True:\n",
        "    password = input(\"Enter your password?\")\n",
        "    if password == answer:\n",
        "        print(\"ENTER THE SYSTEM\")\n",
        "        break\n",
        "    else:\n",
        "        print(\"try agaim\")"
      ],
      "execution_count": 1,
      "outputs": [
        {
          "output_type": "stream",
          "text": [
            "Enter your password?ba46\n",
            "try agaim\n",
            "Enter your password?b246\n",
            "ENTER THE SYSTEM\n"
          ],
          "name": "stdout"
        }
      ]
    },
    {
      "cell_type": "code",
      "metadata": {
        "id": "57F25kk_yTo9",
        "colab_type": "code",
        "colab": {
          "base_uri": "https://localhost:8080/",
          "height": 119
        },
        "outputId": "3bb2e650-bb8d-4299-e40e-097ba9eeb9e2"
      },
      "source": [
        "while True:\n",
        "    acc = input('請輸入帳號')\n",
        "    pwd = input('請輸入密碼')\n",
        "    if (acc == 'abc' and pwd =='123'):\n",
        "        print('帳號與密碼正確')\n",
        "        break\n",
        "    else:\n",
        "        print('登入失敗')"
      ],
      "execution_count": 2,
      "outputs": [
        {
          "output_type": "stream",
          "text": [
            "請輸入帳號123\n",
            "請輸入密碼123\n",
            "登入失敗\n",
            "請輸入帳號abc\n",
            "請輸入密碼123\n",
            "帳號與密碼正確\n"
          ],
          "name": "stdout"
        }
      ]
    }
  ]
}