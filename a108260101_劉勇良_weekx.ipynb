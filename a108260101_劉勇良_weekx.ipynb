{
  "nbformat": 4,
  "nbformat_minor": 0,
  "metadata": {
    "colab": {
      "name": "a108260101-劉勇良-weekx.ipynb",
      "provenance": [],
      "include_colab_link": true
    },
    "kernelspec": {
      "name": "python3",
      "display_name": "Python 3"
    }
  },
  "cells": [
    {
      "cell_type": "markdown",
      "metadata": {
        "id": "view-in-github",
        "colab_type": "text"
      },
      "source": [
        "<a href=\"https://colab.research.google.com/github/OnetwoOnetwo3/-Computational-Thinking-and-Programming-Design/blob/master/a108260101_%E5%8A%89%E5%8B%87%E8%89%AF_weekx.ipynb\" target=\"_parent\"><img src=\"https://colab.research.google.com/assets/colab-badge.svg\" alt=\"Open In Colab\"/></a>"
      ]
    },
    {
      "cell_type": "code",
      "metadata": {
        "id": "6FKpD4Ulq2ds",
        "colab_type": "code",
        "colab": {
          "base_uri": "https://localhost:8080/",
          "height": 153
        },
        "outputId": "55031e8a-562f-4679-c9d9-99530660138d"
      },
      "source": [
        "n=1\n",
        "\n",
        "while n < 5:\n",
        "    print(\"變數n是,n\")\n",
        "    n=n+1\n",
        "\n",
        "    print(\"finished\")"
      ],
      "execution_count": 2,
      "outputs": [
        {
          "output_type": "stream",
          "text": [
            "變數n是,n\n",
            "finished\n",
            "變數n是,n\n",
            "finished\n",
            "變數n是,n\n",
            "finished\n",
            "變數n是,n\n",
            "finished\n"
          ],
          "name": "stdout"
        }
      ]
    },
    {
      "cell_type": "code",
      "metadata": {
        "id": "E-4KjgtIsB9r",
        "colab_type": "code",
        "colab": {
          "base_uri": "https://localhost:8080/",
          "height": 187
        },
        "outputId": "ac462bed-8f12-4a65-9c59-1146d39b7f5c"
      },
      "source": [
        "x = 0\n",
        "while x < 10:\n",
        "    print(\"hello\")\n",
        "    x = x + 1"
      ],
      "execution_count": 7,
      "outputs": [
        {
          "output_type": "stream",
          "text": [
            "hello\n",
            "hello\n",
            "hello\n",
            "hello\n",
            "hello\n",
            "hello\n",
            "hello\n",
            "hello\n",
            "hello\n",
            "hello\n"
          ],
          "name": "stdout"
        }
      ]
    },
    {
      "cell_type": "code",
      "metadata": {
        "id": "5RIs2Obit4JU",
        "colab_type": "code",
        "colab": {
          "base_uri": "https://localhost:8080/",
          "height": 204
        },
        "outputId": "51bcd87a-93c7-4eec-cd6d-bcb997d0ec9a"
      },
      "source": [
        "times = 0\n",
        "while times < 11:\n",
        "    times + 1\n",
        "    print(\"這是第\" , times ,\"次\")\n",
        "    times = times + 1"
      ],
      "execution_count": 11,
      "outputs": [
        {
          "output_type": "stream",
          "text": [
            "這是第 0 次\n",
            "這是第 1 次\n",
            "這是第 2 次\n",
            "這是第 3 次\n",
            "這是第 4 次\n",
            "這是第 5 次\n",
            "這是第 6 次\n",
            "這是第 7 次\n",
            "這是第 8 次\n",
            "這是第 9 次\n",
            "這是第 10 次\n"
          ],
          "name": "stdout"
        }
      ]
    },
    {
      "cell_type": "code",
      "metadata": {
        "id": "IJlWXL5evZNh",
        "colab_type": "code",
        "colab": {
          "base_uri": "https://localhost:8080/",
          "height": 34
        },
        "outputId": "d693c639-00ae-4e59-d5b4-f4edc455c1f9"
      },
      "source": [
        "x = 0\n",
        "result = 0\n",
        "\n",
        "while x < 10:\n",
        "    x = x + 1\n",
        "    result = result + x\n",
        "\n",
        "print(\"答案是 :\" , result)"
      ],
      "execution_count": 16,
      "outputs": [
        {
          "output_type": "stream",
          "text": [
            "答案是 : 55\n"
          ],
          "name": "stdout"
        }
      ]
    },
    {
      "cell_type": "code",
      "metadata": {
        "id": "k-XPW9f0xcIB",
        "colab_type": "code",
        "colab": {}
      },
      "source": [
        ""
      ],
      "execution_count": 0,
      "outputs": []
    },
    {
      "cell_type": "code",
      "metadata": {
        "colab_type": "code",
        "outputId": "0d3b8b96-dd32-40c7-edf4-f74fd10109bc",
        "id": "rg_AExvsxjlm",
        "colab": {
          "base_uri": "https://localhost:8080/",
          "height": 34
        }
      },
      "source": [
        "x = 0\n",
        "result = 0\n",
        "\n",
        "while result <= 50:\n",
        "    x = x + 1\n",
        "    result = result + x\n",
        "\n",
        "print(\"最後加的X是 :\" , result)"
      ],
      "execution_count": 18,
      "outputs": [
        {
          "output_type": "stream",
          "text": [
            "最後加的X是 : 55\n"
          ],
          "name": "stdout"
        }
      ]
    },
    {
      "cell_type": "code",
      "metadata": {
        "id": "GTw20Dl8yGPU",
        "colab_type": "code",
        "colab": {
          "base_uri": "https://localhost:8080/",
          "height": 34
        },
        "outputId": "6f060f31-6bea-4cb8-c336-5cd758211418"
      },
      "source": [
        "sum = 0\n",
        "x = 1\n",
        "while x < 11:\n",
        "    sum = sum + x\n",
        "    x = x + 2\n",
        "print(\"1 + 3 + 5 + 7 + 9=\", sum)"
      ],
      "execution_count": 19,
      "outputs": [
        {
          "output_type": "stream",
          "text": [
            "1 + 3 + 5 + 7 + 9= 25\n"
          ],
          "name": "stdout"
        }
      ]
    },
    {
      "cell_type": "code",
      "metadata": {
        "id": "PByjoRQ61nmO",
        "colab_type": "code",
        "colab": {
          "base_uri": "https://localhost:8080/",
          "height": 34
        },
        "outputId": "93cdc48c-44d8-4dbb-8564-5a3fcc615214"
      },
      "source": [
        "sum = 0\n",
        "i = 0\n",
        "while sum <= 1000:\n",
        "    i += 1\n",
        "    sum += i*i\n",
        "print(\"最小的n值為\", i)"
      ],
      "execution_count": 20,
      "outputs": [
        {
          "output_type": "stream",
          "text": [
            "最小的n值為 14\n"
          ],
          "name": "stdout"
        }
      ]
    }
  ]
}