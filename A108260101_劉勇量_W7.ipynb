{
  "nbformat": 4,
  "nbformat_minor": 0,
  "metadata": {
    "colab": {
      "name": "A108260101-劉勇量-W7.ipynb",
      "provenance": [],
      "include_colab_link": true
    },
    "kernelspec": {
      "name": "python3",
      "display_name": "Python 3"
    }
  },
  "cells": [
    {
      "cell_type": "markdown",
      "metadata": {
        "id": "view-in-github",
        "colab_type": "text"
      },
      "source": [
        "<a href=\"https://colab.research.google.com/github/OnetwoOnetwo3/-Computational-Thinking-and-Programming-Design/blob/master/A108260101_%E5%8A%89%E5%8B%87%E9%87%8F_W7.ipynb\" target=\"_parent\"><img src=\"https://colab.research.google.com/assets/colab-badge.svg\" alt=\"Open In Colab\"/></a>"
      ]
    },
    {
      "cell_type": "code",
      "metadata": {
        "id": "goRfoupnTFpr",
        "colab_type": "code",
        "colab": {
          "base_uri": "https://localhost:8080/",
          "height": 153
        },
        "outputId": "24b842d4-1f25-4d1c-c2db-375cfa7fe52a"
      },
      "source": [
        "s1 = '春眠不覺曉,處處聞啼鳥。'\n",
        "print(s1)\n",
        "s2 = \"夜來風雨聲,花落知多少。\"\n",
        "print(s2)\n",
        "s3 = '作者\"孟浩然\" 詩名\"春曉\"'\n",
        "print(s3)\n",
        "s4 = \"作者'孟浩然' 詩名'春曉'\"\n",
        "print(s4)\n",
        "s5 = ''' 春眠不覺曉,處處聞啼鳥。\n",
        "夜來風雨聲,花落知多少。\n",
        "作者\"孟浩然\" 詩名\"春曉\"\n",
        "'''\n",
        "print(s5)"
      ],
      "execution_count": 2,
      "outputs": [
        {
          "output_type": "stream",
          "text": [
            "春眠不覺曉,處處聞啼鳥。\n",
            "夜來風雨聲,花落知多少。\n",
            "作者\"孟浩然\" 詩名\"春曉\"\n",
            "作者'孟浩然' 詩名'春曉'\n",
            " 春眠不覺曉,處處聞啼鳥。\n",
            "夜來風雨聲,花落知多少。\n",
            "作者\"孟浩然\" 詩名\"春曉\"\n",
            "\n"
          ],
          "name": "stdout"
        }
      ]
    },
    {
      "cell_type": "code",
      "metadata": {
        "id": "JF7HjYEeTeG2",
        "colab_type": "code",
        "colab": {
          "base_uri": "https://localhost:8080/",
          "height": 102
        },
        "outputId": "b96c980a-f343-477d-a757-84164a592bd4"
      },
      "source": [
        "s1 =\"123\"\n",
        "s2 = \"456\"\n",
        "s3 = s1 + s2 \n",
        "print(s3)\n",
        "s4 = s1 * 2 \n",
        "print(s4)\n",
        "\n",
        "s5 = '春眠不覺曉,處處聞啼鳥。\\n\\\n",
        "夜來風雨聲,花落知多少。\\n\\\n",
        "\\t作者\"孟浩然\" 詩名\"春曉\"'\n",
        "print(s5)"
      ],
      "execution_count": 3,
      "outputs": [
        {
          "output_type": "stream",
          "text": [
            "123456\n",
            "123123\n",
            "春眠不覺曉,處處聞啼鳥。\n",
            "夜來風雨聲,花落知多少。\n",
            "\t作者\"孟浩然\" 詩名\"春曉\"\n"
          ],
          "name": "stdout"
        }
      ]
    },
    {
      "cell_type": "code",
      "metadata": {
        "id": "hx72Ay9XTl1K",
        "colab_type": "code",
        "colab": {
          "base_uri": "https://localhost:8080/",
          "height": 170
        },
        "outputId": "3ba6b70a-e3b7-4447-ac75-cb7086a1771a"
      },
      "source": [
        "s = '123456789'\n",
        "print(s[0]) \n",
        "print(s[1])\n",
        "print(s[-1]) \n",
        "print(s[-2])\n",
        "\n",
        "s = '0123456789'\n",
        "print('s=', s)\n",
        "print('s[0]=', s[0])\n",
        "print('s[1]=', s[1])\n",
        "print('s[-1]=', s[-1])\n",
        "print('s[-2]=', s[-2])"
      ],
      "execution_count": 4,
      "outputs": [
        {
          "output_type": "stream",
          "text": [
            "1\n",
            "2\n",
            "9\n",
            "8\n",
            "s= 0123456789\n",
            "s[0]= 0\n",
            "s[1]= 1\n",
            "s[-1]= 9\n",
            "s[-2]= 8\n"
          ],
          "name": "stdout"
        }
      ]
    },
    {
      "cell_type": "code",
      "metadata": {
        "id": "ZRvPLOw5TrGJ",
        "colab_type": "code",
        "colab": {
          "base_uri": "https://localhost:8080/",
          "height": 204
        },
        "outputId": "c93b6f00-d0be-4a16-8b32-caf2537ca80f"
      },
      "source": [
        "print('s=', s, 's[:]=', s[:]) \n",
        "print('s=', s, 's[5:]=', s[5:]) \n",
        "print('s=', s, 's[-2:]=', s[-2:])\n",
        "print('s=', s, 's[:5]=', s[:5]) \n",
        "print('s=', s, 's[:-2]=', s[:-2])\n",
        "print('s=', s, 's[7:9]=', s[7:9])\n",
        "print('s=', s, 's[-4:-1]=', s[-4:-1])\n",
        "print('s=', s, 's[5:-2]=', s[5:-2])\n",
        "print('s=', s, 's[2:10:2]=', s[2:10:2])\n",
        "print('s=', s, 's[::-1]=', s[::-1])\n",
        "print('s=', s, 's[-1::-1]=', s[-1::-1])"
      ],
      "execution_count": 5,
      "outputs": [
        {
          "output_type": "stream",
          "text": [
            "s= 0123456789 s[:]= 0123456789\n",
            "s= 0123456789 s[5:]= 56789\n",
            "s= 0123456789 s[-2:]= 89\n",
            "s= 0123456789 s[:5]= 01234\n",
            "s= 0123456789 s[:-2]= 01234567\n",
            "s= 0123456789 s[7:9]= 78\n",
            "s= 0123456789 s[-4:-1]= 678\n",
            "s= 0123456789 s[5:-2]= 567\n",
            "s= 0123456789 s[2:10:2]= 2468\n",
            "s= 0123456789 s[::-1]= 9876543210\n",
            "s= 0123456789 s[-1::-1]= 9876543210\n"
          ],
          "name": "stdout"
        }
      ]
    },
    {
      "cell_type": "code",
      "metadata": {
        "id": "Ab4j9aThTw_D",
        "colab_type": "code",
        "colab": {
          "base_uri": "https://localhost:8080/",
          "height": 68
        },
        "outputId": "b08bbb3d-4b76-477f-f3d7-92b110d872c6"
      },
      "source": [
        "s = '春眠不覺曉,處處聞啼鳥,夜來風雨聲,花落知多少。'\n",
        "print(len(s))\n",
        "s1='春眠不覺曉,處處聞啼鳥,夜來風雨聲,花落知多少。'\n",
        "list1=s1.split(',') \n",
        "print(list1)\n",
        "list1 = ['春眠不覺曉','處處聞啼鳥','夜來風雨聲','花落知多少。']\n",
        "s2=','.join(list1)\n",
        "print(s2)"
      ],
      "execution_count": 6,
      "outputs": [
        {
          "output_type": "stream",
          "text": [
            "24\n",
            "['春眠不覺曉', '處處聞啼鳥', '夜來風雨聲', '花落知多少。']\n",
            "春眠不覺曉,處處聞啼鳥,夜來風雨聲,花落知多少。\n"
          ],
          "name": "stdout"
        }
      ]
    },
    {
      "cell_type": "code",
      "metadata": {
        "id": "fxvSzx_hUW6-",
        "colab_type": "code",
        "colab": {
          "base_uri": "https://localhost:8080/",
          "height": 68
        },
        "outputId": "307f2068-de74-478e-c0a9-e16f323e3e94"
      },
      "source": [
        "s1='春眠不覺曉,處處聞啼鳥,夜來風雨聲,花落知多少。'\n",
        "print(s1.find('花落')) \n",
        "print(s1.count('處')) \n",
        "s3=s1.replace('春','冬') \n",
        "print(s3)"
      ],
      "execution_count": 7,
      "outputs": [
        {
          "output_type": "stream",
          "text": [
            "18\n",
            "2\n",
            "冬眠不覺曉,處處聞啼鳥,夜來風雨聲,花落知多少。\n"
          ],
          "name": "stdout"
        }
      ]
    },
    {
      "cell_type": "code",
      "metadata": {
        "id": "hUsi2rosUeWN",
        "colab_type": "code",
        "colab": {
          "base_uri": "https://localhost:8080/",
          "height": 102
        },
        "outputId": "8985f204-203a-42f5-8835-e6affe36abfd"
      },
      "source": [
        "s1='An apple a day.'\n",
        "print(s1.capitalize())\n",
        "print(s1.title())\n",
        "print(s1.swapcase())\n",
        "print(s1.upper())\n",
        "print(s1.lower())"
      ],
      "execution_count": 8,
      "outputs": [
        {
          "output_type": "stream",
          "text": [
            "An apple a day.\n",
            "An Apple A Day.\n",
            "aN APPLE A DAY.\n",
            "AN APPLE A DAY.\n",
            "an apple a day.\n"
          ],
          "name": "stdout"
        }
      ]
    },
    {
      "cell_type": "code",
      "metadata": {
        "id": "ahQjSm5eUxae",
        "colab_type": "code",
        "colab": {
          "base_uri": "https://localhost:8080/",
          "height": 102
        },
        "outputId": "81893357-b51c-4b50-9a8a-65febffc9c40"
      },
      "source": [
        "s1='An apple a day.'\n",
        "print(s1.capitalize())\n",
        "print(s1.title())\n",
        "print(s1.swapcase())\n",
        "print(s1.upper())\n",
        "print(s1.lower())"
      ],
      "execution_count": 9,
      "outputs": [
        {
          "output_type": "stream",
          "text": [
            "An apple a day.\n",
            "An Apple A Day.\n",
            "aN APPLE A DAY.\n",
            "AN APPLE A DAY.\n",
            "an apple a day.\n"
          ],
          "name": "stdout"
        }
      ]
    },
    {
      "cell_type": "code",
      "metadata": {
        "id": "k8hpZzsBaFWy",
        "colab_type": "code",
        "colab": {
          "base_uri": "https://localhost:8080/",
          "height": 170
        },
        "outputId": "87236d81-eee4-49bc-8747-aaf56202b533"
      },
      "source": [
        "s1='春眠不覺曉,處處聞啼鳥,夜來風雨聲,花落知多少。'\n",
        "print(s1.startswith('春眠'))\n",
        "print(s1.endswith('多少。'))\n",
        "\n",
        "s1='春眠不覺曉'\n",
        "print(s1.center(10))\n",
        "print(s1.rjust(10))\n",
        "print(s1.ljust(10))\n",
        "s1='123'\n",
        "print(s1.zfill(5))\n",
        "s1=' Hello,Mary. '\n",
        "print(s1.strip())\n",
        "print(s1.lstrip(' H'))\n",
        "print(s1.rstrip(' .'))"
      ],
      "execution_count": 10,
      "outputs": [
        {
          "output_type": "stream",
          "text": [
            "True\n",
            "True\n",
            "  春眠不覺曉   \n",
            "     春眠不覺曉\n",
            "春眠不覺曉     \n",
            "00123\n",
            "Hello,Mary.\n",
            "ello,Mary. \n",
            " Hello,Mary\n"
          ],
          "name": "stdout"
        }
      ]
    },
    {
      "cell_type": "code",
      "metadata": {
        "id": "qb4Z6Lb_aO25",
        "colab_type": "code",
        "colab": {
          "base_uri": "https://localhost:8080/",
          "height": 119
        },
        "outputId": "10b56700-4430-477c-b2f4-6cb7c7706568"
      },
      "source": [
        "t1 = ()\n",
        "print(t1)\n",
        "t2 = 1, 2 ,3 \n",
        "print(t2)\n",
        "t3 = (1, 2, 3) \n",
        "print(t3)\n",
        "list1=[1,2,3,4] \n",
        "t4 = tuple(list1) \n",
        "print(t4)\n",
        "t4 = (1,2,3,4) \n",
        "t5 = (t4,5,6)\n",
        "print(t5)\n",
        "t6 = ('z', ) \n",
        "print(t6)"
      ],
      "execution_count": 11,
      "outputs": [
        {
          "output_type": "stream",
          "text": [
            "()\n",
            "(1, 2, 3)\n",
            "(1, 2, 3)\n",
            "(1, 2, 3, 4)\n",
            "((1, 2, 3, 4), 5, 6)\n",
            "('z',)\n"
          ],
          "name": "stdout"
        }
      ]
    },
    {
      "cell_type": "code",
      "metadata": {
        "id": "VYMSc-PugdVH",
        "colab_type": "code",
        "colab": {
          "base_uri": "https://localhost:8080/",
          "height": 68
        },
        "outputId": "ee094109-d6ef-4353-90e8-0a952b8914f5"
      },
      "source": [
        "t3 = (1, 2, 3)\n",
        "print(t3[0]) \n",
        "t4 = (1,2,3,4)\n",
        "t5 = (t4,5,6)\n",
        "print(len(t5))\n",
        "print(t5[0][0])"
      ],
      "execution_count": 12,
      "outputs": [
        {
          "output_type": "stream",
          "text": [
            "1\n",
            "3\n",
            "1\n"
          ],
          "name": "stdout"
        }
      ]
    },
    {
      "cell_type": "code",
      "metadata": {
        "id": "UMXbj-Hcgkga",
        "colab_type": "code",
        "colab": {
          "base_uri": "https://localhost:8080/",
          "height": 68
        },
        "outputId": "8a71bff8-3fcf-4754-9263-358d10a5a513"
      },
      "source": [
        "t3 = (1, 2, 3)\n",
        "a, b, c = t3\n",
        "print('a =', a, ',b =', b, ',c =', c)\n",
        "\n",
        "a = 10\n",
        "b = 20\n",
        "print('交換前','a =', a, ',b =', b)\n",
        "a, b = b, a\n",
        "print('交換後','a =', a, ',b =', b)"
      ],
      "execution_count": 13,
      "outputs": [
        {
          "output_type": "stream",
          "text": [
            "a = 1 ,b = 2 ,c = 3\n",
            "交換前 a = 10 ,b = 20\n",
            "交換後 a = 20 ,b = 10\n"
          ],
          "name": "stdout"
        }
      ]
    },
    {
      "cell_type": "code",
      "metadata": {
        "id": "IVWJfwMpgn5J",
        "colab_type": "code",
        "colab": {
          "base_uri": "https://localhost:8080/",
          "height": 119
        },
        "outputId": "bb594c0d-c969-49d1-c3ba-090217f866a9"
      },
      "source": [
        "shoplist = ['牛奶', '蛋', '咖啡豆', '西瓜', '鳳梨']\n",
        "print('購物清單shoplist為')\n",
        "print(shoplist)\n",
        "listm = [1, 2.0, 'Python']\n",
        "print(\"串列可以包含各種資料型別的元素\")\n",
        "print(listm)\n",
        "list1 = list('python')\n",
        "print(list1) #用list()建立串列\n",
        "tuple2 = ('a', 'b', 1, 2)\n",
        "list2 = list(tuple2) \n",
        "print(list2)"
      ],
      "execution_count": 14,
      "outputs": [
        {
          "output_type": "stream",
          "text": [
            "購物清單shoplist為\n",
            "['牛奶', '蛋', '咖啡豆', '西瓜', '鳳梨']\n",
            "串列可以包含各種資料型別的元素\n",
            "[1, 2.0, 'Python']\n",
            "['p', 'y', 't', 'h', 'o', 'n']\n",
            "['a', 'b', 1, 2]\n"
          ],
          "name": "stdout"
        }
      ]
    },
    {
      "cell_type": "code",
      "metadata": {
        "id": "pa4gbHLJguf6",
        "colab_type": "code",
        "colab": {
          "base_uri": "https://localhost:8080/",
          "height": 51
        },
        "outputId": "dfdc877f-450e-4037-d71a-b02908d36a1e"
      },
      "source": [
        "shoplist = ['牛奶', '蛋', '咖啡豆', '西瓜', '鳳梨']\n",
        "print('購物清單shoplist的長度為', len(shoplist)) \n",
        "# 串接\n",
        "shoplist1 = ['牛奶', '蛋', '咖啡豆']\n",
        "shoplist2 = ['西瓜', '鳳梨']\n",
        "shoplist_all = shoplist1 + shoplist2 \n",
        "print(shoplist_all)"
      ],
      "execution_count": 15,
      "outputs": [
        {
          "output_type": "stream",
          "text": [
            "購物清單shoplist的長度為 5\n",
            "['牛奶', '蛋', '咖啡豆', '西瓜', '鳳梨']\n"
          ],
          "name": "stdout"
        }
      ]
    },
    {
      "cell_type": "code",
      "metadata": {
        "id": "vTtZ88kShFFB",
        "colab_type": "code",
        "colab": {
          "base_uri": "https://localhost:8080/",
          "height": 340
        },
        "outputId": "a88742c5-7dfc-46de-8397-af255dfbcfba"
      },
      "source": [
        "shoplist = ['牛奶', '蛋', '咖啡豆', '西瓜', '鳳梨']\n",
        "##索引\n",
        "print('顯示shoplist[0]為',shoplist[0])\n",
        "index=shoplist.index('咖啡豆') #取出元素索引值\n",
        "print(\"執行 index=shoplist.index('咖啡豆') 後\")\n",
        "print('index=', index)\n",
        "##修改\n",
        "shoplist[1] = '皮蛋'\n",
        "print(\"執行 shoplist[1] = '皮蛋' 後\")\n",
        "print(shoplist)\n",
        "##切片\n",
        "a = list('abcdefghijk')\n",
        "print('a[:]為', a[:])\n",
        "print('a[:5]為', a[:5])\n",
        "print('a[5:]為', a[5:])\n",
        "print('a[:-5]為', a[:-5])\n",
        "print('a[-5:]為', a[-5:])\n",
        "print('a[0:4]為', a[0:4])\n",
        "print('a[-5:-3]為', a[-5:-3])\n",
        "print('a[1:10:3]為', a[1:10:3])\n",
        "print('a[-1:-4:-1]為', a[-1:-4:-1])\n",
        "print('a[::-1]為', a[::-1])\n",
        "## 使用[for變數 in串列]可以讀取串列所有元素到變數(Optional)\n",
        "shoplist = ['milk', 'egg', 'coffee', 'watermelon']\n",
        "for item in shoplist:\n",
        "  print(item)"
      ],
      "execution_count": 19,
      "outputs": [
        {
          "output_type": "stream",
          "text": [
            "顯示shoplist[0]為 牛奶\n",
            "執行 index=shoplist.index('咖啡豆') 後\n",
            "index= 2\n",
            "執行 shoplist[1] = '皮蛋' 後\n",
            "['牛奶', '皮蛋', '咖啡豆', '西瓜', '鳳梨']\n",
            "a[:]為 ['a', 'b', 'c', 'd', 'e', 'f', 'g', 'h', 'i', 'j', 'k']\n",
            "a[:5]為 ['a', 'b', 'c', 'd', 'e']\n",
            "a[5:]為 ['f', 'g', 'h', 'i', 'j', 'k']\n",
            "a[:-5]為 ['a', 'b', 'c', 'd', 'e', 'f']\n",
            "a[-5:]為 ['g', 'h', 'i', 'j', 'k']\n",
            "a[0:4]為 ['a', 'b', 'c', 'd']\n",
            "a[-5:-3]為 ['g', 'h']\n",
            "a[1:10:3]為 ['b', 'e', 'h']\n",
            "a[-1:-4:-1]為 ['k', 'j', 'i']\n",
            "a[::-1]為 ['k', 'j', 'i', 'h', 'g', 'f', 'e', 'd', 'c', 'b', 'a']\n",
            "milk\n",
            "egg\n",
            "coffee\n",
            "watermelon\n"
          ],
          "name": "stdout"
        }
      ]
    },
    {
      "cell_type": "code",
      "metadata": {
        "id": "xIx_DtR3hX6g",
        "colab_type": "code",
        "colab": {
          "base_uri": "https://localhost:8080/",
          "height": 289
        },
        "outputId": "5a7ed4dd-e899-4ee9-b81b-ab5a96da3b44"
      },
      "source": [
        "shoplist = ['牛奶', '蛋', '咖啡豆', '西瓜', '鳳梨']\n",
        "shoplist.append('麵包') \n",
        "print(\"執行 shoplist.append('麵包')後\")\n",
        "print(shoplist)\n",
        "shoplist.insert(4, '蘋果') \n",
        "print(\"執行 shoplist.insert(4, '蘋果') 後\")\n",
        "print(shoplist)\n",
        "shoplist.remove('蛋') \n",
        "print(\"執行 shoplist.remove('蛋') 後\")\n",
        "print(shoplist)\n",
        "del shoplist[0] \n",
        "print(\"執行 del shoplist[0] 後\")\n",
        "print(shoplist)\n",
        "shoplist.pop(0) \n",
        "print(\"執行 shoplist.pop(0) 後\")\n",
        "print(shoplist)\n",
        "shoplist.pop() \n",
        "print(\"執行 shoplist.pop() 後\")\n",
        "print(shoplist)\n",
        "shoplist.pop(-1) \n",
        "print(\"執行 shoplist.pop(-1) 後\")\n",
        "print(shoplist)\n",
        "shoplist = ['milk', 'egg', 'coffee', 'watermelon']\n",
        "shoplist.sort() \n",
        "print(\"執行 shoplist.sort() 後\")\n",
        "print(shoplist)"
      ],
      "execution_count": 20,
      "outputs": [
        {
          "output_type": "stream",
          "text": [
            "執行 shoplist.append('麵包')後\n",
            "['牛奶', '蛋', '咖啡豆', '西瓜', '鳳梨', '麵包']\n",
            "執行 shoplist.insert(4, '蘋果') 後\n",
            "['牛奶', '蛋', '咖啡豆', '西瓜', '蘋果', '鳳梨', '麵包']\n",
            "執行 shoplist.remove('蛋') 後\n",
            "['牛奶', '咖啡豆', '西瓜', '蘋果', '鳳梨', '麵包']\n",
            "執行 del shoplist[0] 後\n",
            "['咖啡豆', '西瓜', '蘋果', '鳳梨', '麵包']\n",
            "執行 shoplist.pop(0) 後\n",
            "['西瓜', '蘋果', '鳳梨', '麵包']\n",
            "執行 shoplist.pop() 後\n",
            "['西瓜', '蘋果', '鳳梨']\n",
            "執行 shoplist.pop(-1) 後\n",
            "['西瓜', '蘋果']\n",
            "執行 shoplist.sort() 後\n",
            "['coffee', 'egg', 'milk', 'watermelon']\n"
          ],
          "name": "stdout"
        }
      ]
    }
  ]
}