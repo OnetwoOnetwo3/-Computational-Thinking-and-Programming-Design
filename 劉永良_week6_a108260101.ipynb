{
  "nbformat": 4,
  "nbformat_minor": 0,
  "metadata": {
    "colab": {
      "name": "劉永良-week6-a108260101.ipynb",
      "provenance": [],
      "include_colab_link": true
    },
    "kernelspec": {
      "name": "python3",
      "display_name": "Python 3"
    }
  },
  "cells": [
    {
      "cell_type": "markdown",
      "metadata": {
        "id": "view-in-github",
        "colab_type": "text"
      },
      "source": [
        "<a href=\"https://colab.research.google.com/github/OnetwoOnetwo3/-Computational-Thinking-and-Programming-Design/blob/master/%E5%8A%89%E6%B0%B8%E8%89%AF_week6_a108260101.ipynb\" target=\"_parent\"><img src=\"https://colab.research.google.com/assets/colab-badge.svg\" alt=\"Open In Colab\"/></a>"
      ]
    },
    {
      "cell_type": "code",
      "metadata": {
        "id": "IZBltJKwQFOf",
        "colab_type": "code",
        "colab": {
          "base_uri": "https://localhost:8080/",
          "height": 51
        },
        "outputId": "5d3f41d5-b5e8-4abc-b9d3-af30faab96dc"
      },
      "source": [
        "x=75\n",
        "y=80\n",
        "z=65\n",
        "print(x+y+z)\n",
        "print((x+y+z)/3)"
      ],
      "execution_count": 1,
      "outputs": [
        {
          "output_type": "stream",
          "text": [
            "220\n",
            "73.33333333333333\n"
          ],
          "name": "stdout"
        }
      ]
    },
    {
      "cell_type": "code",
      "metadata": {
        "id": "Z9C8xNVXQeqP",
        "colab_type": "code",
        "colab": {
          "base_uri": "https://localhost:8080/",
          "height": 34
        },
        "outputId": "8f65a485-89bd-4ee2-8f19-97c5711e3e7e"
      },
      "source": [
        "x=5\n",
        "print((x*12+8)*2.54)"
      ],
      "execution_count": 2,
      "outputs": [
        {
          "output_type": "stream",
          "text": [
            "172.72\n"
          ],
          "name": "stdout"
        }
      ]
    },
    {
      "cell_type": "code",
      "metadata": {
        "id": "zm-pRjiZQh2n",
        "colab_type": "code",
        "colab": {
          "base_uri": "https://localhost:8080/",
          "height": 51
        },
        "outputId": "33a06d2b-77d4-4d78-af2d-212e2763c6f5"
      },
      "source": [
        "x=19\n",
        "y=5\n",
        "a=x/y\n",
        "b=x%y\n",
        "print(a)\n",
        "print(b)"
      ],
      "execution_count": 3,
      "outputs": [
        {
          "output_type": "stream",
          "text": [
            "3.8\n",
            "4\n"
          ],
          "name": "stdout"
        }
      ]
    },
    {
      "cell_type": "code",
      "metadata": {
        "id": "N-b_wXwHQlSq",
        "colab_type": "code",
        "colab": {
          "base_uri": "https://localhost:8080/",
          "height": 68
        },
        "outputId": "03c4058a-1db0-452b-fabc-2454c090d188"
      },
      "source": [
        "a=30/12\n",
        "b=20*30\n",
        "c=((30-30%12)/12*200)+((30%12)*20)\n",
        "print(a)\n",
        "print(b)\n",
        "print(c)"
      ],
      "execution_count": 4,
      "outputs": [
        {
          "output_type": "stream",
          "text": [
            "2.5\n",
            "600\n",
            "520.0\n"
          ],
          "name": "stdout"
        }
      ]
    },
    {
      "cell_type": "code",
      "metadata": {
        "id": "iEUoPfINQoTy",
        "colab_type": "code",
        "colab": {
          "base_uri": "https://localhost:8080/",
          "height": 153
        },
        "outputId": "b0c30c86-9c1b-4e7d-abd5-901ec9710e34"
      },
      "source": [
        "KB=2**10 \n",
        "MB=2**20\n",
        "GB=2**30\n",
        "TB=2**40\n",
        "PB=2**50\n",
        "EB=2**60\n",
        "ZB=2**70\n",
        "YB=2**80\n",
        "print(KB)\n",
        "print(MB)\n",
        "print(GB)\n",
        "print(TB)\n",
        "print(PB)\n",
        "print(EB)\n",
        "print(ZB)\n",
        "print(YB)"
      ],
      "execution_count": 5,
      "outputs": [
        {
          "output_type": "stream",
          "text": [
            "1024\n",
            "1048576\n",
            "1073741824\n",
            "1099511627776\n",
            "1125899906842624\n",
            "1152921504606846976\n",
            "1180591620717411303424\n",
            "1208925819614629174706176\n"
          ],
          "name": "stdout"
        }
      ]
    },
    {
      "cell_type": "code",
      "metadata": {
        "id": "dZ0Hd9m7Qdg6",
        "colab_type": "code",
        "colab": {}
      },
      "source": [
        ""
      ],
      "execution_count": 0,
      "outputs": []
    }
  ]
}